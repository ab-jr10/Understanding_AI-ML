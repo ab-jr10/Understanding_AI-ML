{
 "cells": [
  {
   "cell_type": "markdown",
   "id": "b0a70f2f",
   "metadata": {},
   "source": [
    "### ***90 Days to Data Science***"
   ]
  },
  {
   "cell_type": "markdown",
   "id": "5d9f7b55",
   "metadata": {},
   "source": [
    "## Day -1"
   ]
  },
  {
   "cell_type": "markdown",
   "id": "9873a99a-e135-4031-a8c8-12cd2989e797",
   "metadata": {},
   "source": [
    "# Guesing Game"
   ]
  },
  {
   "cell_type": "code",
   "execution_count": 1,
   "id": "0234a24c-9d66-4b39-b52a-d8824f9b7feb",
   "metadata": {},
   "outputs": [],
   "source": [
    "import random"
   ]
  },
  {
   "cell_type": "code",
   "execution_count": 2,
   "id": "36a41908-aa9c-4fbf-bf8b-838ebbca49e6",
   "metadata": {},
   "outputs": [
    {
     "data": {
      "text/plain": [
       "68"
      ]
     },
     "execution_count": 2,
     "metadata": {},
     "output_type": "execute_result"
    }
   ],
   "source": [
    "random.randint(1,100)"
   ]
  },
  {
   "cell_type": "code",
   "execution_count": 3,
   "id": "a374b306-a1c7-48a2-8b4d-204fa8eaa5e8",
   "metadata": {},
   "outputs": [],
   "source": [
    "# jackpot = random.randint(1,100)\n",
    "# guess = int(input(\"Enter a guess: \"))\n",
    "# i = 0\n",
    "# while guess!=jackpot:\n",
    "#     if guess<jackpot:\n",
    "#         print(\"Guess higher\")\n",
    "#     else:\n",
    "#         print(\"Guess Lower\")\n",
    "#     guess = int(input(\"Enter a guess: \"))\n",
    "#     i += 1\n",
    "# print(\"Correct!!\")\n",
    "# print(\"You took\",i, \"attempts\")"
   ]
  },
  {
   "cell_type": "markdown",
   "id": "1e385efc",
   "metadata": {},
   "source": [
    "# Pattern print\n",
    "\n",
    "## *\n",
    "## * *\n",
    "## * * *\n",
    "## * * * *"
   ]
  },
  {
   "cell_type": "code",
   "execution_count": 4,
   "id": "ac9d49e2",
   "metadata": {},
   "outputs": [],
   "source": [
    "# row = int(input(\"Enter number of rows: \"))\n",
    "\n",
    "# for i in range(1, row+1):\n",
    "#     for j in range(1, i+1):\n",
    "#         print(\"*\", end=\" \")\n",
    "#     print(\"\")"
   ]
  },
  {
   "cell_type": "markdown",
   "id": "badd33ab",
   "metadata": {},
   "source": [
    "# Strings"
   ]
  },
  {
   "cell_type": "code",
   "execution_count": 5,
   "id": "904655fb",
   "metadata": {},
   "outputs": [
    {
     "name": "stdout",
     "output_type": "stream",
     "text": [
      "Hello\n"
     ]
    }
   ],
   "source": [
    "a = 'Hello'\n",
    "print(a)"
   ]
  },
  {
   "cell_type": "code",
   "execution_count": 6,
   "id": "7ca32ca8",
   "metadata": {},
   "outputs": [
    {
     "name": "stdout",
     "output_type": "stream",
     "text": [
      "Hello\n"
     ]
    }
   ],
   "source": [
    "b = \"Hello\"\n",
    "print(b)"
   ]
  },
  {
   "cell_type": "code",
   "execution_count": 7,
   "id": "48f86ab1",
   "metadata": {},
   "outputs": [
    {
     "name": "stdout",
     "output_type": "stream",
     "text": [
      "Hello\n"
     ]
    }
   ],
   "source": [
    "c = '''Hello'''\n",
    "print(c)\n",
    "#multiline strings"
   ]
  },
  {
   "cell_type": "code",
   "execution_count": 8,
   "id": "18683bb4",
   "metadata": {},
   "outputs": [
    {
     "name": "stdout",
     "output_type": "stream",
     "text": [
      "Hello\n"
     ]
    }
   ],
   "source": [
    "d = str('Hello')\n",
    "print(d)"
   ]
  },
  {
   "cell_type": "markdown",
   "id": "b32550ed",
   "metadata": {},
   "source": [
    "# Accessing Substrings from a String"
   ]
  },
  {
   "cell_type": "code",
   "execution_count": 9,
   "id": "07fa64c1",
   "metadata": {},
   "outputs": [
    {
     "name": "stdout",
     "output_type": "stream",
     "text": [
      "hello\n"
     ]
    }
   ],
   "source": [
    "# concept of indexing\n",
    "x = \"hello\"\n",
    "print(x)"
   ]
  },
  {
   "cell_type": "code",
   "execution_count": 10,
   "id": "dc15c29b",
   "metadata": {
    "scrolled": true
   },
   "outputs": [],
   "source": [
    "# # Positive indexing : 0->\n",
    "# print(x[0])\n",
    "\n",
    "# #Nositive indexing: -1 ->\n",
    "# print(x[-1])\n",
    "\n",
    "# print(x[-5])\n",
    "\n",
    "# print(x[-6])"
   ]
  },
  {
   "cell_type": "code",
   "execution_count": 11,
   "id": "c826db18",
   "metadata": {},
   "outputs": [
    {
     "name": "stdout",
     "output_type": "stream",
     "text": [
      "o\n"
     ]
    }
   ],
   "source": [
    "#Nositive indexing: -1 ->\n",
    "print(x[-1])"
   ]
  },
  {
   "cell_type": "code",
   "execution_count": 12,
   "id": "112d23a9",
   "metadata": {},
   "outputs": [
    {
     "name": "stdout",
     "output_type": "stream",
     "text": [
      "h\n"
     ]
    }
   ],
   "source": [
    "print(x[-5])"
   ]
  },
  {
   "cell_type": "code",
   "execution_count": 13,
   "id": "026e1f04",
   "metadata": {},
   "outputs": [],
   "source": [
    "# print(x[-6])"
   ]
  },
  {
   "cell_type": "code",
   "execution_count": 14,
   "id": "ff84f577",
   "metadata": {},
   "outputs": [
    {
     "name": "stdout",
     "output_type": "stream",
     "text": [
      "Hello World\n",
      "Hello World\n",
      "Hell\n",
      "Hel\n",
      "Hello World\n",
      "lo\n",
      "HlW\n"
     ]
    }
   ],
   "source": [
    "# Slicing\n",
    "c = \"Hello World\"\n",
    "print(c)\n",
    "\n",
    "print(c[0:])\n",
    "print(c[0:4])\n",
    "print(c[:3])\n",
    "print(c[:])\n",
    "print(c[2:6:2])\n",
    "print(c[0:8:3])"
   ]
  },
  {
   "cell_type": "code",
   "execution_count": 15,
   "id": "2782392e",
   "metadata": {},
   "outputs": [
    {
     "name": "stdout",
     "output_type": "stream",
     "text": [
      "Hello World\n"
     ]
    }
   ],
   "source": [
    "print(c[0:])"
   ]
  },
  {
   "cell_type": "code",
   "execution_count": 16,
   "id": "5352c98a",
   "metadata": {},
   "outputs": [
    {
     "name": "stdout",
     "output_type": "stream",
     "text": [
      "\n",
      "Wr\n",
      "dlroW olleH\n",
      "dlro\n"
     ]
    }
   ],
   "source": [
    "print(c[0:8:-1]) # will print nothing, can't use -ve steps with +ve slicing\n",
    "print(c[-5:-1:2])\n",
    "print(c[::-1]) #reverse a string\n",
    "print(c[-1:-5:-1])"
   ]
  },
  {
   "cell_type": "code",
   "execution_count": 17,
   "id": "31c58567",
   "metadata": {},
   "outputs": [
    {
     "name": "stdout",
     "output_type": "stream",
     "text": [
      "HloWrd\n"
     ]
    }
   ],
   "source": [
    "print(c[::2])"
   ]
  },
  {
   "cell_type": "markdown",
   "id": "686b2d95",
   "metadata": {},
   "source": [
    "# Editing and Deleting in strings"
   ]
  },
  {
   "cell_type": "code",
   "execution_count": 18,
   "id": "e180572c",
   "metadata": {},
   "outputs": [
    {
     "name": "stdout",
     "output_type": "stream",
     "text": [
      "Hello World\n"
     ]
    }
   ],
   "source": [
    "c = \"Hello World\"\n",
    "print(c)"
   ]
  },
  {
   "cell_type": "code",
   "execution_count": 19,
   "id": "b1c6f571",
   "metadata": {},
   "outputs": [],
   "source": [
    "# # Strings are Immutable Data Type and hence can't do any changes\n",
    "# # But you can re-assign a new strings to the variable\n",
    "# c[o] = \"x\""
   ]
  },
  {
   "cell_type": "code",
   "execution_count": 20,
   "id": "f45c1476",
   "metadata": {},
   "outputs": [],
   "source": [
    "# # Deletion\n",
    "# del c\n",
    "# print(c)"
   ]
  },
  {
   "cell_type": "markdown",
   "id": "bc775438",
   "metadata": {},
   "source": [
    "# Operations on Strings\n",
    "* Arithmetic Operations\n",
    "* Relational Operations\n",
    "* Logical Operations\n",
    "* Loops on Strings\n",
    "* Membership Operations"
   ]
  },
  {
   "cell_type": "code",
   "execution_count": 21,
   "id": "feec74bf",
   "metadata": {},
   "outputs": [
    {
     "name": "stdout",
     "output_type": "stream",
     "text": [
      "Hi_Hi_Hi_Hi_Hi_Hi_Hi_Hi_Hi_Hi_\n"
     ]
    }
   ],
   "source": [
    "# Arithmetic Operations -> \n",
    "# '+' => Concatanation\n",
    "# '*' => Multiplication\n",
    "\n",
    "\"Hello\"+\" \"+\"World\"\n",
    "print(\"Hi_\"*10)"
   ]
  },
  {
   "cell_type": "code",
   "execution_count": 22,
   "id": "b152f251",
   "metadata": {},
   "outputs": [
    {
     "data": {
      "text/plain": [
       "False"
      ]
     },
     "execution_count": 22,
     "metadata": {},
     "output_type": "execute_result"
    }
   ],
   "source": [
    "# Relational Operations\n",
    "\"Hello\" == \"World\""
   ]
  },
  {
   "cell_type": "code",
   "execution_count": 23,
   "id": "7c7cec23",
   "metadata": {},
   "outputs": [
    {
     "data": {
      "text/plain": [
       "True"
      ]
     },
     "execution_count": 23,
     "metadata": {},
     "output_type": "execute_result"
    }
   ],
   "source": [
    "\"Hello\" != \"World\""
   ]
  },
  {
   "cell_type": "code",
   "execution_count": 24,
   "id": "494c2df5",
   "metadata": {},
   "outputs": [
    {
     "data": {
      "text/plain": [
       "False"
      ]
     },
     "execution_count": 24,
     "metadata": {},
     "output_type": "execute_result"
    }
   ],
   "source": [
    "# Lexiographically\n",
    "\"Mumbai\" > \"Pune\""
   ]
  },
  {
   "cell_type": "code",
   "execution_count": 25,
   "id": "15a353e5",
   "metadata": {},
   "outputs": [
    {
     "data": {
      "text/plain": [
       "True"
      ]
     },
     "execution_count": 25,
     "metadata": {},
     "output_type": "execute_result"
    }
   ],
   "source": [
    "\"Pune\" > \"Mumbai\""
   ]
  },
  {
   "cell_type": "code",
   "execution_count": 26,
   "id": "5c7bc71d",
   "metadata": {},
   "outputs": [
    {
     "data": {
      "text/plain": [
       "True"
      ]
     },
     "execution_count": 26,
     "metadata": {},
     "output_type": "execute_result"
    }
   ],
   "source": [
    "\"k\" > \"K\""
   ]
  },
  {
   "cell_type": "code",
   "execution_count": 27,
   "id": "3fe09793",
   "metadata": {},
   "outputs": [
    {
     "data": {
      "text/plain": [
       "False"
      ]
     },
     "execution_count": 27,
     "metadata": {},
     "output_type": "execute_result"
    }
   ],
   "source": [
    "\"K\" > \"k|\""
   ]
  },
  {
   "cell_type": "code",
   "execution_count": 28,
   "id": "44e84811",
   "metadata": {},
   "outputs": [
    {
     "data": {
      "text/plain": [
       "'world'"
      ]
     },
     "execution_count": 28,
     "metadata": {},
     "output_type": "execute_result"
    }
   ],
   "source": [
    "# Logical Operations\n",
    "# \"\" -> False (bcz empty string)\n",
    "# \"jaukah\" -> True (Non-empty string)\n",
    "\n",
    "\"hello\" and \"world\""
   ]
  },
  {
   "cell_type": "code",
   "execution_count": 29,
   "id": "3e3d89a8",
   "metadata": {},
   "outputs": [
    {
     "data": {
      "text/plain": [
       "''"
      ]
     },
     "execution_count": 29,
     "metadata": {},
     "output_type": "execute_result"
    }
   ],
   "source": [
    "\"\" and \"Hello\"  # o and 1 = 0"
   ]
  },
  {
   "cell_type": "code",
   "execution_count": 30,
   "id": "0abed9d2",
   "metadata": {},
   "outputs": [
    {
     "data": {
      "text/plain": [
       "'world'"
      ]
     },
     "execution_count": 30,
     "metadata": {},
     "output_type": "execute_result"
    }
   ],
   "source": [
    "\"\" or \"world\"  # 0 or 1 = 1"
   ]
  },
  {
   "cell_type": "code",
   "execution_count": 31,
   "id": "3474d68a",
   "metadata": {},
   "outputs": [
    {
     "data": {
      "text/plain": [
       "'hello'"
      ]
     },
     "execution_count": 31,
     "metadata": {},
     "output_type": "execute_result"
    }
   ],
   "source": [
    "\"hello\" or \"world\"  # 1 or 1 = 1(first occurance)"
   ]
  },
  {
   "cell_type": "code",
   "execution_count": 32,
   "id": "ac3c6eb8",
   "metadata": {},
   "outputs": [
    {
     "data": {
      "text/plain": [
       "'world'"
      ]
     },
     "execution_count": 32,
     "metadata": {},
     "output_type": "execute_result"
    }
   ],
   "source": [
    "\"hello\" and \"world\"  # 1 and 1 = 1(last occurance)"
   ]
  },
  {
   "cell_type": "code",
   "execution_count": 33,
   "id": "a4d3ceaa",
   "metadata": {
    "scrolled": true
   },
   "outputs": [
    {
     "data": {
      "text/plain": [
       "'you'"
      ]
     },
     "execution_count": 33,
     "metadata": {},
     "output_type": "execute_result"
    }
   ],
   "source": [
    "\"hello\" and \"world\" and \"you\"  # 1 and 1 = 1(last occurance)"
   ]
  },
  {
   "cell_type": "code",
   "execution_count": 34,
   "id": "8aeb7fa4",
   "metadata": {},
   "outputs": [
    {
     "data": {
      "text/plain": [
       "False"
      ]
     },
     "execution_count": 34,
     "metadata": {},
     "output_type": "execute_result"
    }
   ],
   "source": [
    "not \"Hello\"  # Not True = False"
   ]
  },
  {
   "cell_type": "code",
   "execution_count": 35,
   "id": "16922c47",
   "metadata": {},
   "outputs": [
    {
     "data": {
      "text/plain": [
       "True"
      ]
     },
     "execution_count": 35,
     "metadata": {},
     "output_type": "execute_result"
    }
   ],
   "source": [
    "not \"\"  # Not False = True"
   ]
  },
  {
   "cell_type": "code",
   "execution_count": 36,
   "id": "687359b2",
   "metadata": {},
   "outputs": [
    {
     "name": "stdout",
     "output_type": "stream",
     "text": [
      "h\n",
      "e\n",
      "l\n",
      "l\n",
      "o\n",
      " \n",
      "w\n",
      "o\n",
      "r\n",
      "l\n",
      "d\n"
     ]
    }
   ],
   "source": [
    "# Loops on Strings\n",
    "c = \"hello world\"\n",
    "for i in c:\n",
    "    print(i)"
   ]
  },
  {
   "cell_type": "code",
   "execution_count": 37,
   "id": "9b826137",
   "metadata": {},
   "outputs": [
    {
     "name": "stdout",
     "output_type": "stream",
     "text": [
      "l\n",
      "o\n",
      "w\n"
     ]
    }
   ],
   "source": [
    "# Loops on Strings\n",
    "c = \"hello world\"\n",
    "for i in c[2:7:2]:\n",
    "    print(i)"
   ]
  },
  {
   "cell_type": "code",
   "execution_count": 38,
   "id": "ad87f91d",
   "metadata": {},
   "outputs": [
    {
     "name": "stdout",
     "output_type": "stream",
     "text": [
      "d\n",
      "l\n",
      "r\n",
      "o\n",
      "w\n",
      " \n",
      "o\n",
      "l\n",
      "l\n",
      "e\n",
      "h\n"
     ]
    }
   ],
   "source": [
    "# Loops on Strings\n",
    "c = \"hello world\"\n",
    "for i in c[::-1]:\n",
    "    print(i)"
   ]
  },
  {
   "cell_type": "code",
   "execution_count": 39,
   "id": "504f2efe",
   "metadata": {},
   "outputs": [],
   "source": [
    "# Membership Operations\n",
    "c = \"hello world\"\n"
   ]
  },
  {
   "cell_type": "code",
   "execution_count": 40,
   "id": "0c6f9ac0",
   "metadata": {},
   "outputs": [
    {
     "data": {
      "text/plain": [
       "False"
      ]
     },
     "execution_count": 40,
     "metadata": {},
     "output_type": "execute_result"
    }
   ],
   "source": [
    "\"H\" in c"
   ]
  },
  {
   "cell_type": "code",
   "execution_count": 41,
   "id": "b759b225",
   "metadata": {},
   "outputs": [
    {
     "data": {
      "text/plain": [
       "True"
      ]
     },
     "execution_count": 41,
     "metadata": {},
     "output_type": "execute_result"
    }
   ],
   "source": [
    "\"world\" in c"
   ]
  },
  {
   "cell_type": "markdown",
   "id": "b1d2c25e",
   "metadata": {},
   "source": [
    "# Strings Functions\n",
    "* len\n",
    "* min/max\n",
    "* sorted"
   ]
  },
  {
   "cell_type": "code",
   "execution_count": 42,
   "id": "31627633",
   "metadata": {},
   "outputs": [
    {
     "name": "stdout",
     "output_type": "stream",
     "text": [
      "11\n"
     ]
    }
   ],
   "source": [
    "# length of strings\n",
    "c = \"hello world\"\n",
    "print(len(c))\n"
   ]
  },
  {
   "cell_type": "code",
   "execution_count": 43,
   "id": "5c1a22c5",
   "metadata": {},
   "outputs": [
    {
     "data": {
      "text/plain": [
       "' '"
      ]
     },
     "execution_count": 43,
     "metadata": {},
     "output_type": "execute_result"
    }
   ],
   "source": [
    "min(c)"
   ]
  },
  {
   "cell_type": "code",
   "execution_count": 44,
   "id": "64c18926",
   "metadata": {},
   "outputs": [
    {
     "data": {
      "text/plain": [
       "'w'"
      ]
     },
     "execution_count": 44,
     "metadata": {},
     "output_type": "execute_result"
    }
   ],
   "source": [
    "max(c)"
   ]
  },
  {
   "cell_type": "code",
   "execution_count": 45,
   "id": "24a3ec18",
   "metadata": {},
   "outputs": [
    {
     "data": {
      "text/plain": [
       "[' ', 'd', 'e', 'h', 'l', 'l', 'l', 'o', 'o', 'r', 'w']"
      ]
     },
     "execution_count": 45,
     "metadata": {},
     "output_type": "execute_result"
    }
   ],
   "source": [
    "sorted(c)"
   ]
  },
  {
   "cell_type": "code",
   "execution_count": 46,
   "id": "1d7a7f50",
   "metadata": {},
   "outputs": [
    {
     "data": {
      "text/plain": [
       "['w', 'r', 'o', 'o', 'l', 'l', 'l', 'h', 'e', 'd', ' ']"
      ]
     },
     "execution_count": 46,
     "metadata": {},
     "output_type": "execute_result"
    }
   ],
   "source": [
    "sorted(c, reverse=True)"
   ]
  },
  {
   "cell_type": "markdown",
   "id": "a90a7143",
   "metadata": {},
   "source": [
    "### 1. Capitalize/Title/Upper/Lower/Swapcase"
   ]
  },
  {
   "cell_type": "code",
   "execution_count": 47,
   "id": "a5a74b3d",
   "metadata": {},
   "outputs": [],
   "source": [
    "c = \"kolkata\""
   ]
  },
  {
   "cell_type": "code",
   "execution_count": 48,
   "id": "2b8fd651",
   "metadata": {},
   "outputs": [
    {
     "data": {
      "text/plain": [
       "'Kolkata'"
      ]
     },
     "execution_count": 48,
     "metadata": {},
     "output_type": "execute_result"
    }
   ],
   "source": [
    "c.capitalize()  # will not change the original string"
   ]
  },
  {
   "cell_type": "code",
   "execution_count": 49,
   "id": "7f96e2ff",
   "metadata": {},
   "outputs": [
    {
     "data": {
      "text/plain": [
       "'kolkata'"
      ]
     },
     "execution_count": 49,
     "metadata": {},
     "output_type": "execute_result"
    }
   ],
   "source": [
    "c"
   ]
  },
  {
   "cell_type": "code",
   "execution_count": 50,
   "id": "9e45be05",
   "metadata": {},
   "outputs": [
    {
     "data": {
      "text/plain": [
       "\"It's raining today\""
      ]
     },
     "execution_count": 50,
     "metadata": {},
     "output_type": "execute_result"
    }
   ],
   "source": [
    "\"it's raining today\".capitalize()"
   ]
  },
  {
   "cell_type": "code",
   "execution_count": 51,
   "id": "8ef321cb",
   "metadata": {},
   "outputs": [
    {
     "data": {
      "text/plain": [
       "\"It'S Raining Today\""
      ]
     },
     "execution_count": 51,
     "metadata": {},
     "output_type": "execute_result"
    }
   ],
   "source": [
    "\"it's raining today\".title()"
   ]
  },
  {
   "cell_type": "code",
   "execution_count": 52,
   "id": "3293c37e",
   "metadata": {},
   "outputs": [
    {
     "data": {
      "text/plain": [
       "'KOLKATA'"
      ]
     },
     "execution_count": 52,
     "metadata": {},
     "output_type": "execute_result"
    }
   ],
   "source": [
    "c.upper()"
   ]
  },
  {
   "cell_type": "code",
   "execution_count": 53,
   "id": "76ca913a",
   "metadata": {},
   "outputs": [
    {
     "data": {
      "text/plain": [
       "'kolkata'"
      ]
     },
     "execution_count": 53,
     "metadata": {},
     "output_type": "execute_result"
    }
   ],
   "source": [
    "c.lower()"
   ]
  },
  {
   "cell_type": "code",
   "execution_count": 54,
   "id": "760c2184",
   "metadata": {},
   "outputs": [
    {
     "data": {
      "text/plain": [
       "'kOlKaTa'"
      ]
     },
     "execution_count": 54,
     "metadata": {},
     "output_type": "execute_result"
    }
   ],
   "source": [
    "\"KoLkAtA\".swapcase()  # upper to lower and vice versa"
   ]
  },
  {
   "cell_type": "markdown",
   "id": "0e64e6f1",
   "metadata": {},
   "source": [
    "### 2. Count"
   ]
  },
  {
   "cell_type": "code",
   "execution_count": 55,
   "id": "fba4be92",
   "metadata": {},
   "outputs": [
    {
     "data": {
      "text/plain": [
       "1"
      ]
     },
     "execution_count": 55,
     "metadata": {},
     "output_type": "execute_result"
    }
   ],
   "source": [
    "\"it is raining\".count(\"ing\")"
   ]
  },
  {
   "cell_type": "code",
   "execution_count": 56,
   "id": "7c961d25",
   "metadata": {},
   "outputs": [
    {
     "data": {
      "text/plain": [
       "4"
      ]
     },
     "execution_count": 56,
     "metadata": {},
     "output_type": "execute_result"
    }
   ],
   "source": [
    "\"it is raining\".count(\"i\")"
   ]
  },
  {
   "cell_type": "code",
   "execution_count": 57,
   "id": "a83b3e0c",
   "metadata": {},
   "outputs": [
    {
     "data": {
      "text/plain": [
       "0"
      ]
     },
     "execution_count": 57,
     "metadata": {},
     "output_type": "execute_result"
    }
   ],
   "source": [
    "\"it is raining\".count(\"d\")"
   ]
  },
  {
   "cell_type": "markdown",
   "id": "43bda5a3",
   "metadata": {},
   "source": [
    "### 3. Find/Index"
   ]
  },
  {
   "cell_type": "code",
   "execution_count": 58,
   "id": "3c3ba64c",
   "metadata": {},
   "outputs": [
    {
     "data": {
      "text/plain": [
       "0"
      ]
     },
     "execution_count": 58,
     "metadata": {},
     "output_type": "execute_result"
    }
   ],
   "source": [
    "\"it is raining\".find(\"i\")  # index of first occurance "
   ]
  },
  {
   "cell_type": "code",
   "execution_count": 59,
   "id": "caddbf85",
   "metadata": {},
   "outputs": [
    {
     "data": {
      "text/plain": [
       "6"
      ]
     },
     "execution_count": 59,
     "metadata": {},
     "output_type": "execute_result"
    }
   ],
   "source": [
    "\"it is raining\".find(\"r\")  # index of first occurance "
   ]
  },
  {
   "cell_type": "code",
   "execution_count": 60,
   "id": "649e1a6c",
   "metadata": {},
   "outputs": [
    {
     "data": {
      "text/plain": [
       "-1"
      ]
     },
     "execution_count": 60,
     "metadata": {},
     "output_type": "execute_result"
    }
   ],
   "source": [
    "\"it is raining\".find(\"d\")  # index of first occurance "
   ]
  },
  {
   "cell_type": "code",
   "execution_count": 61,
   "id": "391db665",
   "metadata": {},
   "outputs": [
    {
     "data": {
      "text/plain": [
       "1"
      ]
     },
     "execution_count": 61,
     "metadata": {},
     "output_type": "execute_result"
    }
   ],
   "source": [
    "\"it is raining\".index(\"t\")  # index of first occurance "
   ]
  },
  {
   "cell_type": "code",
   "execution_count": 62,
   "id": "f201de64",
   "metadata": {},
   "outputs": [
    {
     "data": {
      "text/plain": [
       "6"
      ]
     },
     "execution_count": 62,
     "metadata": {},
     "output_type": "execute_result"
    }
   ],
   "source": [
    "\"it is raining\".index(\"rain\")  # index of first occurance "
   ]
  },
  {
   "cell_type": "code",
   "execution_count": 63,
   "id": "71ecba38",
   "metadata": {},
   "outputs": [],
   "source": [
    "# \"it is raining\".index(\"d\")  # index of first occurance "
   ]
  },
  {
   "cell_type": "markdown",
   "id": "ba474511",
   "metadata": {},
   "source": [
    "### 4. endswith/startswith"
   ]
  },
  {
   "cell_type": "code",
   "execution_count": 64,
   "id": "57473927",
   "metadata": {},
   "outputs": [
    {
     "data": {
      "text/plain": [
       "False"
      ]
     },
     "execution_count": 64,
     "metadata": {},
     "output_type": "execute_result"
    }
   ],
   "source": [
    "\"it is raining\".endswith(\"i\") "
   ]
  },
  {
   "cell_type": "code",
   "execution_count": 65,
   "id": "e57ec117",
   "metadata": {},
   "outputs": [
    {
     "data": {
      "text/plain": [
       "True"
      ]
     },
     "execution_count": 65,
     "metadata": {},
     "output_type": "execute_result"
    }
   ],
   "source": [
    "\"it is raining\".endswith(\"ing\") "
   ]
  },
  {
   "cell_type": "markdown",
   "id": "8820e86e",
   "metadata": {},
   "source": [
    "### 5. Format"
   ]
  },
  {
   "cell_type": "code",
   "execution_count": 66,
   "id": "2a725163",
   "metadata": {},
   "outputs": [
    {
     "data": {
      "text/plain": [
       "'Hello my name is Abdul and I am 30.'"
      ]
     },
     "execution_count": 66,
     "metadata": {},
     "output_type": "execute_result"
    }
   ],
   "source": [
    "\"Hello my name is {} and I am {}.\".format(\"Abdul\",30)"
   ]
  },
  {
   "cell_type": "code",
   "execution_count": 67,
   "id": "32e59bba",
   "metadata": {},
   "outputs": [],
   "source": [
    "# def login_sys(x, y):\n",
    "#     print(\"Hello my name is {} and I am {}.\".format(x,y))\n",
    "    \n",
    "# x = input(\"Name: \")\n",
    "# y = int(input(\"age: \"))\n",
    "# login_sys(x, y)"
   ]
  },
  {
   "cell_type": "code",
   "execution_count": 68,
   "id": "9f9edd5d",
   "metadata": {},
   "outputs": [
    {
     "data": {
      "text/plain": [
       "'Hello my name is 30 and I am Abdul.'"
      ]
     },
     "execution_count": 68,
     "metadata": {},
     "output_type": "execute_result"
    }
   ],
   "source": [
    "\"Hello my name is {1} and I am {0}.\".format(\"Abdul\",30)"
   ]
  },
  {
   "cell_type": "code",
   "execution_count": 69,
   "id": "ce80eaea",
   "metadata": {},
   "outputs": [
    {
     "data": {
      "text/plain": [
       "'Hello my name is Abdul and I am 30.'"
      ]
     },
     "execution_count": 69,
     "metadata": {},
     "output_type": "execute_result"
    }
   ],
   "source": [
    "\"Hello my name is {name} and I am {age}.\".format(name=\"Abdul\",age=30)"
   ]
  },
  {
   "cell_type": "markdown",
   "id": "e1fedcf7",
   "metadata": {},
   "source": [
    "### 6. isalpha/isalnum/isdecimal/isdigit/isidentifier"
   ]
  },
  {
   "cell_type": "code",
   "execution_count": 70,
   "id": "1ed035dd",
   "metadata": {},
   "outputs": [
    {
     "data": {
      "text/plain": [
       "True"
      ]
     },
     "execution_count": 70,
     "metadata": {},
     "output_type": "execute_result"
    }
   ],
   "source": [
    "\"Flat20\".isalnum()"
   ]
  },
  {
   "cell_type": "code",
   "execution_count": 71,
   "id": "f2dcd636",
   "metadata": {},
   "outputs": [
    {
     "data": {
      "text/plain": [
       "False"
      ]
     },
     "execution_count": 71,
     "metadata": {},
     "output_type": "execute_result"
    }
   ],
   "source": [
    "\"Flat20%\".isalnum()"
   ]
  },
  {
   "cell_type": "code",
   "execution_count": 72,
   "id": "24527442",
   "metadata": {},
   "outputs": [
    {
     "data": {
      "text/plain": [
       "True"
      ]
     },
     "execution_count": 72,
     "metadata": {},
     "output_type": "execute_result"
    }
   ],
   "source": [
    "\"Flat\".isalpha()"
   ]
  },
  {
   "cell_type": "code",
   "execution_count": 73,
   "id": "dea501a7",
   "metadata": {},
   "outputs": [
    {
     "data": {
      "text/plain": [
       "False"
      ]
     },
     "execution_count": 73,
     "metadata": {},
     "output_type": "execute_result"
    }
   ],
   "source": [
    "\"Flat2\".isalpha()"
   ]
  },
  {
   "cell_type": "code",
   "execution_count": 74,
   "id": "550b687f",
   "metadata": {},
   "outputs": [
    {
     "data": {
      "text/plain": [
       "False"
      ]
     },
     "execution_count": 74,
     "metadata": {},
     "output_type": "execute_result"
    }
   ],
   "source": [
    "\"Flat%\".isalpha()"
   ]
  },
  {
   "cell_type": "code",
   "execution_count": 75,
   "id": "6da81a3b",
   "metadata": {},
   "outputs": [
    {
     "data": {
      "text/plain": [
       "True"
      ]
     },
     "execution_count": 75,
     "metadata": {},
     "output_type": "execute_result"
    }
   ],
   "source": [
    "\"20\".isdigit()"
   ]
  },
  {
   "cell_type": "code",
   "execution_count": 76,
   "id": "8b94271a",
   "metadata": {},
   "outputs": [
    {
     "data": {
      "text/plain": [
       "False"
      ]
     },
     "execution_count": 76,
     "metadata": {},
     "output_type": "execute_result"
    }
   ],
   "source": [
    "\"helo world\".isidentifier()"
   ]
  },
  {
   "cell_type": "code",
   "execution_count": 77,
   "id": "8783ba0b",
   "metadata": {},
   "outputs": [
    {
     "data": {
      "text/plain": [
       "True"
      ]
     },
     "execution_count": 77,
     "metadata": {},
     "output_type": "execute_result"
    }
   ],
   "source": [
    "\"helo_world\".isidentifier()"
   ]
  },
  {
   "cell_type": "markdown",
   "id": "b265ae84",
   "metadata": {},
   "source": [
    "### 7. Split"
   ]
  },
  {
   "cell_type": "code",
   "execution_count": 78,
   "id": "43f8fd35",
   "metadata": {},
   "outputs": [
    {
     "data": {
      "text/plain": [
       "['who', 'is', 'the', 'prime', 'minister', 'of', 'India']"
      ]
     },
     "execution_count": 78,
     "metadata": {},
     "output_type": "execute_result"
    }
   ],
   "source": [
    "\"who is the prime minister of India\".split()"
   ]
  },
  {
   "cell_type": "code",
   "execution_count": 79,
   "id": "99bd1a71",
   "metadata": {},
   "outputs": [
    {
     "data": {
      "text/plain": [
       "['who is the ', ' minister of India']"
      ]
     },
     "execution_count": 79,
     "metadata": {},
     "output_type": "execute_result"
    }
   ],
   "source": [
    "\"who is the prime minister of India\".split(\"prime\")"
   ]
  },
  {
   "cell_type": "code",
   "execution_count": 80,
   "id": "baf638ab",
   "metadata": {},
   "outputs": [
    {
     "data": {
      "text/plain": [
       "['who is the prime minister of India']"
      ]
     },
     "execution_count": 80,
     "metadata": {},
     "output_type": "execute_result"
    }
   ],
   "source": [
    "\"who is the prime minister of India\".split(\"x\")"
   ]
  },
  {
   "cell_type": "markdown",
   "id": "5974e2bc",
   "metadata": {},
   "source": [
    "### 8. Join"
   ]
  },
  {
   "cell_type": "code",
   "execution_count": 81,
   "id": "a91c2d30",
   "metadata": {},
   "outputs": [
    {
     "data": {
      "text/plain": [
       "'who is the prime minister of India'"
      ]
     },
     "execution_count": 81,
     "metadata": {},
     "output_type": "execute_result"
    }
   ],
   "source": [
    "\" \".join(['who', 'is', 'the', 'prime', 'minister', 'of', 'India'])"
   ]
  },
  {
   "cell_type": "code",
   "execution_count": 82,
   "id": "65dadf90",
   "metadata": {},
   "outputs": [
    {
     "data": {
      "text/plain": [
       "'who/is/the/prime/minister/of/India'"
      ]
     },
     "execution_count": 82,
     "metadata": {},
     "output_type": "execute_result"
    }
   ],
   "source": [
    "\"/\".join(['who', 'is', 'the', 'prime', 'minister', 'of', 'India'])"
   ]
  },
  {
   "cell_type": "markdown",
   "id": "6eb3d4df",
   "metadata": {},
   "source": [
    "### 9. Replace"
   ]
  },
  {
   "cell_type": "code",
   "execution_count": 83,
   "id": "c5bab0ef",
   "metadata": {},
   "outputs": [
    {
     "data": {
      "text/plain": [
       "'Hi my name is Abdul'"
      ]
     },
     "execution_count": 83,
     "metadata": {},
     "output_type": "execute_result"
    }
   ],
   "source": [
    "\"Hi my name is nitish\".replace(\"nitish\", \"Abdul\")"
   ]
  },
  {
   "cell_type": "markdown",
   "id": "fd12f8df",
   "metadata": {},
   "source": [
    "### 10. Strip"
   ]
  },
  {
   "cell_type": "code",
   "execution_count": 84,
   "id": "3236f032",
   "metadata": {},
   "outputs": [
    {
     "data": {
      "text/plain": [
       "'      abdul     '"
      ]
     },
     "execution_count": 84,
     "metadata": {},
     "output_type": "execute_result"
    }
   ],
   "source": [
    "name = \"      abdul     \"\n",
    "name"
   ]
  },
  {
   "cell_type": "code",
   "execution_count": 85,
   "id": "4e112065",
   "metadata": {},
   "outputs": [
    {
     "data": {
      "text/plain": [
       "'Hi      abdul     '"
      ]
     },
     "execution_count": 85,
     "metadata": {},
     "output_type": "execute_result"
    }
   ],
   "source": [
    "\"Hi\" + name"
   ]
  },
  {
   "cell_type": "code",
   "execution_count": 86,
   "id": "2140c3d1",
   "metadata": {},
   "outputs": [
    {
     "data": {
      "text/plain": [
       "'abdul'"
      ]
     },
     "execution_count": 86,
     "metadata": {},
     "output_type": "execute_result"
    }
   ],
   "source": [
    "name.strip()"
   ]
  },
  {
   "cell_type": "code",
   "execution_count": 87,
   "id": "1a5cf8b7",
   "metadata": {},
   "outputs": [
    {
     "data": {
      "text/plain": [
       "'      abdul     '"
      ]
     },
     "execution_count": 87,
     "metadata": {},
     "output_type": "execute_result"
    }
   ],
   "source": [
    "name"
   ]
  },
  {
   "cell_type": "markdown",
   "id": "397a460b",
   "metadata": {},
   "source": [
    "# Python Lists\n",
    "* List\n",
    "* Array\n",
    "* List vs Array\n",
    "  1. Array => Homogeneous, List => Heterogeneous\n",
    "  2. Array stores things in a continuous memory location, not a list.\n",
    "  3. Arrays are faster\n",
    "  4. Lists are more programmer-friendly, but slow\n",
    "* Create\n",
    "* Access\n",
    "* Edit\n",
    "* Add\n",
    "* Delete\n",
    "* Operations\n",
    "* Functions"
   ]
  },
  {
   "cell_type": "markdown",
   "id": "5897b502-6acf-4deb-9394-e1dd10553e18",
   "metadata": {},
   "source": [
    "### Create"
   ]
  },
  {
   "cell_type": "code",
   "execution_count": 88,
   "id": "1f5ae3d2",
   "metadata": {},
   "outputs": [
    {
     "data": {
      "text/plain": [
       "['Hello', 45, True, (5+6j)]"
      ]
     },
     "execution_count": 88,
     "metadata": {},
     "output_type": "execute_result"
    }
   ],
   "source": [
    "l = [\"Hello\", 45, True, 5+6j] # heterogeneous\n",
    "l"
   ]
  },
  {
   "cell_type": "code",
   "execution_count": 89,
   "id": "33ad84a8",
   "metadata": {},
   "outputs": [
    {
     "data": {
      "text/plain": [
       "[1, 2, 3, [4, 5]]"
      ]
     },
     "execution_count": 89,
     "metadata": {},
     "output_type": "execute_result"
    }
   ],
   "source": [
    "# multidimension lists\n",
    "lm = [1,2,3,[4,5]]\n",
    "lm"
   ]
  },
  {
   "cell_type": "code",
   "execution_count": 90,
   "id": "b85ea931",
   "metadata": {},
   "outputs": [
    {
     "data": {
      "text/plain": [
       "[[[1, 2], [3, 4]], [[5, 6], [7, 8]]]"
      ]
     },
     "execution_count": 90,
     "metadata": {},
     "output_type": "execute_result"
    }
   ],
   "source": [
    "# 3D lists\n",
    "l3 = [[[1,2],[3,4]],[[5,6],[7,8]]]\n",
    "l3"
   ]
  },
  {
   "cell_type": "code",
   "execution_count": 91,
   "id": "dd211c2d",
   "metadata": {},
   "outputs": [
    {
     "data": {
      "text/plain": [
       "['H', 'a', 'l', 'd', 'i', 'a']"
      ]
     },
     "execution_count": 91,
     "metadata": {},
     "output_type": "execute_result"
    }
   ],
   "source": [
    "l4 = list(\"Haldia\")\n",
    "l4"
   ]
  },
  {
   "cell_type": "markdown",
   "id": "7e7b7c15-3c74-446a-976d-467a2509c2a2",
   "metadata": {},
   "source": [
    "### Access (Just like strings)"
   ]
  },
  {
   "cell_type": "code",
   "execution_count": 92,
   "id": "30707e17",
   "metadata": {},
   "outputs": [],
   "source": [
    "l = [1,2,3,4,5]"
   ]
  },
  {
   "cell_type": "code",
   "execution_count": 93,
   "id": "4163fce4",
   "metadata": {},
   "outputs": [
    {
     "data": {
      "text/plain": [
       "1"
      ]
     },
     "execution_count": 93,
     "metadata": {},
     "output_type": "execute_result"
    }
   ],
   "source": [
    "l[0]"
   ]
  },
  {
   "cell_type": "code",
   "execution_count": 94,
   "id": "8c3c4b13",
   "metadata": {},
   "outputs": [
    {
     "data": {
      "text/plain": [
       "4"
      ]
     },
     "execution_count": 94,
     "metadata": {},
     "output_type": "execute_result"
    }
   ],
   "source": [
    "l[3]"
   ]
  },
  {
   "cell_type": "code",
   "execution_count": 95,
   "id": "ce3d7e57",
   "metadata": {},
   "outputs": [],
   "source": [
    "lm = [1,2,3,[4,5]]"
   ]
  },
  {
   "cell_type": "code",
   "execution_count": 96,
   "id": "8fe81648-31a0-45f6-ae94-fba16f9f9eae",
   "metadata": {},
   "outputs": [
    {
     "data": {
      "text/plain": [
       "4"
      ]
     },
     "execution_count": 96,
     "metadata": {},
     "output_type": "execute_result"
    }
   ],
   "source": [
    "lm[3][0]"
   ]
  },
  {
   "cell_type": "code",
   "execution_count": 97,
   "id": "a28b1238-14b0-48d8-a4a0-2ab689974c8e",
   "metadata": {},
   "outputs": [
    {
     "data": {
      "text/plain": [
       "4"
      ]
     },
     "execution_count": 97,
     "metadata": {},
     "output_type": "execute_result"
    }
   ],
   "source": [
    "lm[-1][0]"
   ]
  },
  {
   "cell_type": "code",
   "execution_count": 98,
   "id": "9bc8d373-d896-402b-a716-885dd87620ba",
   "metadata": {},
   "outputs": [],
   "source": [
    "l3 = [[[1,2],[3,4]],[[5,6],[7,8]]]"
   ]
  },
  {
   "cell_type": "code",
   "execution_count": 99,
   "id": "6d74d03f-7d7a-43a4-b263-93ac9f4a3e65",
   "metadata": {},
   "outputs": [
    {
     "data": {
      "text/plain": [
       "7"
      ]
     },
     "execution_count": 99,
     "metadata": {},
     "output_type": "execute_result"
    }
   ],
   "source": [
    "# fetching 7:\n",
    "l3[1][1][0]"
   ]
  },
  {
   "cell_type": "code",
   "execution_count": 100,
   "id": "80b181fd-3fd6-4b55-9676-d21d9538595c",
   "metadata": {},
   "outputs": [
    {
     "data": {
      "text/plain": [
       "7"
      ]
     },
     "execution_count": 100,
     "metadata": {},
     "output_type": "execute_result"
    }
   ],
   "source": [
    "# or\n",
    "l3[-1][-1][0]"
   ]
  },
  {
   "cell_type": "markdown",
   "id": "afed35f3-068c-49f8-a479-ee6e1a13a950",
   "metadata": {},
   "source": [
    "### Edit\n",
    "***Unlike strings list in python are mutable***"
   ]
  },
  {
   "cell_type": "code",
   "execution_count": 101,
   "id": "9b5bcad2-5d4d-4c2a-8f49-dd169ef733b2",
   "metadata": {},
   "outputs": [],
   "source": [
    "l = [1,2,3,4,5]"
   ]
  },
  {
   "cell_type": "code",
   "execution_count": 102,
   "id": "9fda53be-8678-4d59-b3c0-e62c539ef399",
   "metadata": {},
   "outputs": [],
   "source": [
    "l[0]= 100"
   ]
  },
  {
   "cell_type": "code",
   "execution_count": 103,
   "id": "0ee175a8-09a5-44b0-92d3-2a3ebaf68900",
   "metadata": {},
   "outputs": [
    {
     "data": {
      "text/plain": [
       "[100, 2, 3, 4, 5]"
      ]
     },
     "execution_count": 103,
     "metadata": {},
     "output_type": "execute_result"
    }
   ],
   "source": [
    "l"
   ]
  },
  {
   "cell_type": "code",
   "execution_count": 104,
   "id": "7ef2661b-838f-4a38-b9af-2dc42f5aa30f",
   "metadata": {},
   "outputs": [],
   "source": [
    "l[-1] = 500"
   ]
  },
  {
   "cell_type": "code",
   "execution_count": 105,
   "id": "c9f784d7-71d1-4e1a-9baf-b88eec8eace9",
   "metadata": {},
   "outputs": [
    {
     "data": {
      "text/plain": [
       "[100, 2, 3, 4, 500]"
      ]
     },
     "execution_count": 105,
     "metadata": {},
     "output_type": "execute_result"
    }
   ],
   "source": [
    "l"
   ]
  },
  {
   "cell_type": "code",
   "execution_count": 106,
   "id": "2192122a-af7b-4f42-bc16-f181e79167f9",
   "metadata": {},
   "outputs": [
    {
     "data": {
      "text/plain": [
       "[2, 3, 4]"
      ]
     },
     "execution_count": 106,
     "metadata": {},
     "output_type": "execute_result"
    }
   ],
   "source": [
    "l[1:4]"
   ]
  },
  {
   "cell_type": "markdown",
   "id": "111ae894-a6ff-49b2-8ace-9dd208ec8044",
   "metadata": {},
   "source": [
    "### add/append/extend/insert"
   ]
  },
  {
   "cell_type": "code",
   "execution_count": 107,
   "id": "20aeca0b-720f-4683-a8ba-b56b4904ba13",
   "metadata": {},
   "outputs": [
    {
     "data": {
      "text/plain": [
       "[100, 2, 3, 4, 500]"
      ]
     },
     "execution_count": 107,
     "metadata": {},
     "output_type": "execute_result"
    }
   ],
   "source": [
    "l"
   ]
  },
  {
   "cell_type": "code",
   "execution_count": 108,
   "id": "ebccc594-47a4-4b9b-b7f5-0488a8a98fef",
   "metadata": {},
   "outputs": [
    {
     "data": {
      "text/plain": [
       "[100, 2, 3, 4, 500, 1000]"
      ]
     },
     "execution_count": 108,
     "metadata": {},
     "output_type": "execute_result"
    }
   ],
   "source": [
    "l.append(1000)\n",
    "l"
   ]
  },
  {
   "cell_type": "code",
   "execution_count": 109,
   "id": "d829eeac-172f-4b31-9bfe-a5d1eebc141f",
   "metadata": {},
   "outputs": [],
   "source": [
    "l.append(\"Hello\")"
   ]
  },
  {
   "cell_type": "code",
   "execution_count": 110,
   "id": "0dce1031-ec87-42c3-99cc-4f5116ec659b",
   "metadata": {},
   "outputs": [
    {
     "data": {
      "text/plain": [
       "[100, 2, 3, 4, 500, 1000, 'Hello']"
      ]
     },
     "execution_count": 110,
     "metadata": {},
     "output_type": "execute_result"
    }
   ],
   "source": [
    "l"
   ]
  },
  {
   "cell_type": "code",
   "execution_count": 111,
   "id": "71a2aaa0-f07a-4708-9c56-3644e546c7fa",
   "metadata": {},
   "outputs": [
    {
     "data": {
      "text/plain": [
       "[100, 2, 3, 4, 500, 1000, 'Hello', 5000, 6000, 7000]"
      ]
     },
     "execution_count": 111,
     "metadata": {},
     "output_type": "execute_result"
    }
   ],
   "source": [
    "# To add multiple items\n",
    "l.extend([5000,6000,7000])\n",
    "l"
   ]
  },
  {
   "cell_type": "code",
   "execution_count": 112,
   "id": "4a281763-6aef-49b0-ae9e-cde7cd546415",
   "metadata": {},
   "outputs": [],
   "source": [
    "# appends add 1 at a time\n",
    "l.append([5,5])"
   ]
  },
  {
   "cell_type": "code",
   "execution_count": 113,
   "id": "b3ef2657-9249-4277-af77-867af10d7e7f",
   "metadata": {},
   "outputs": [
    {
     "data": {
      "text/plain": [
       "[100, 2, 3, 4, 500, 1000, 'Hello', 5000, 6000, 7000, [5, 5]]"
      ]
     },
     "execution_count": 113,
     "metadata": {},
     "output_type": "execute_result"
    }
   ],
   "source": [
    "l"
   ]
  },
  {
   "cell_type": "code",
   "execution_count": 114,
   "id": "6d4960b5-5975-4a64-a2e3-2ab1b4cb6318",
   "metadata": {},
   "outputs": [],
   "source": [
    "# extend will add multiple items\n",
    "l.extend(\"goa\")"
   ]
  },
  {
   "cell_type": "code",
   "execution_count": 115,
   "id": "91a2af88-dd8c-4347-ae97-729400389bd6",
   "metadata": {},
   "outputs": [
    {
     "data": {
      "text/plain": [
       "[100, 2, 3, 4, 500, 1000, 'Hello', 5000, 6000, 7000, [5, 5], 'g', 'o', 'a']"
      ]
     },
     "execution_count": 115,
     "metadata": {},
     "output_type": "execute_result"
    }
   ],
   "source": [
    "l"
   ]
  },
  {
   "cell_type": "code",
   "execution_count": 116,
   "id": "10809fe8-9143-4356-bb40-7c90aee7e61d",
   "metadata": {},
   "outputs": [
    {
     "data": {
      "text/plain": [
       "[100,\n",
       " 'world',\n",
       " 2,\n",
       " 3,\n",
       " 4,\n",
       " 500,\n",
       " 1000,\n",
       " 'Hello',\n",
       " 5000,\n",
       " 6000,\n",
       " 7000,\n",
       " [5, 5],\n",
       " 'g',\n",
       " 'o',\n",
       " 'a']"
      ]
     },
     "execution_count": 116,
     "metadata": {},
     "output_type": "execute_result"
    }
   ],
   "source": [
    "l.insert(1, \"world\")\n",
    "l"
   ]
  },
  {
   "cell_type": "markdown",
   "id": "61d2c7c1-f8f0-41b5-9f6a-66830caa794a",
   "metadata": {},
   "source": [
    "### Delete\n",
    "***del/remove/pop/clear***"
   ]
  },
  {
   "cell_type": "code",
   "execution_count": 117,
   "id": "2729f8c6-eac0-4c70-9104-e1b8466aec5d",
   "metadata": {},
   "outputs": [],
   "source": [
    "l2 = [1,2,3,4,5]"
   ]
  },
  {
   "cell_type": "code",
   "execution_count": 118,
   "id": "ec0993ad-f782-4293-b037-c6cce8f4a3ff",
   "metadata": {},
   "outputs": [],
   "source": [
    "del l2"
   ]
  },
  {
   "cell_type": "code",
   "execution_count": 119,
   "id": "a0de9f90-4d28-46fd-8856-772c89f0bf23",
   "metadata": {},
   "outputs": [],
   "source": [
    "# l2"
   ]
  },
  {
   "cell_type": "code",
   "execution_count": 120,
   "id": "3680cc4a-ba77-47bc-a59e-d4d91e9ca029",
   "metadata": {},
   "outputs": [
    {
     "data": {
      "text/plain": [
       "['world', 2, 3, 4, 500, 1000, 'Hello', 5000, 6000, 7000, [5, 5], 'g', 'o', 'a']"
      ]
     },
     "execution_count": 120,
     "metadata": {},
     "output_type": "execute_result"
    }
   ],
   "source": [
    "del l[0]\n",
    "l"
   ]
  },
  {
   "cell_type": "code",
   "execution_count": 121,
   "id": "dcd30838-3fa6-43f5-9c29-c4cf785d4fd4",
   "metadata": {},
   "outputs": [
    {
     "data": {
      "text/plain": [
       "['world', 2, 3, 4, 500, 1000, 'Hello', 5000, 6000, 7000, 'g', 'o', 'a']"
      ]
     },
     "execution_count": 121,
     "metadata": {},
     "output_type": "execute_result"
    }
   ],
   "source": [
    "del l[-4]\n",
    "l"
   ]
  },
  {
   "cell_type": "code",
   "execution_count": 122,
   "id": "f27fcab1-f827-472a-a21f-eef094ef0e47",
   "metadata": {},
   "outputs": [
    {
     "data": {
      "text/plain": [
       "['world', 2, 3, 4, 500, 1000, 'Hello', 5000, 6000, 7000]"
      ]
     },
     "execution_count": 122,
     "metadata": {},
     "output_type": "execute_result"
    }
   ],
   "source": [
    "del l[-3:]\n",
    "l"
   ]
  },
  {
   "cell_type": "code",
   "execution_count": 123,
   "id": "5ddd0eab-1e52-4b92-99fa-d16ce9d5879b",
   "metadata": {},
   "outputs": [
    {
     "data": {
      "text/plain": [
       "['world', 2, 3, 4, 500, 1000, 5000, 6000, 7000]"
      ]
     },
     "execution_count": 123,
     "metadata": {},
     "output_type": "execute_result"
    }
   ],
   "source": [
    "# when you don't know the index of the item to be removed:\n",
    "l.remove(\"Hello\")\n",
    "l"
   ]
  },
  {
   "cell_type": "code",
   "execution_count": 124,
   "id": "00345436-de1f-48ed-818b-22cf172f4d40",
   "metadata": {},
   "outputs": [
    {
     "data": {
      "text/plain": [
       "7000"
      ]
     },
     "execution_count": 124,
     "metadata": {},
     "output_type": "execute_result"
    }
   ],
   "source": [
    "# to delete last item\n",
    "l.pop()"
   ]
  },
  {
   "cell_type": "code",
   "execution_count": 125,
   "id": "45016769-c258-4190-b8a8-0f7e25694407",
   "metadata": {},
   "outputs": [
    {
     "data": {
      "text/plain": [
       "['world', 2, 3, 4, 500, 1000, 5000, 6000]"
      ]
     },
     "execution_count": 125,
     "metadata": {},
     "output_type": "execute_result"
    }
   ],
   "source": [
    "l"
   ]
  },
  {
   "cell_type": "code",
   "execution_count": 126,
   "id": "8121addd-298b-459d-a8b1-feb6c073d248",
   "metadata": {},
   "outputs": [],
   "source": [
    "l.clear()"
   ]
  },
  {
   "cell_type": "code",
   "execution_count": 127,
   "id": "5fd9c6d6-65da-441e-a490-26d71669ca52",
   "metadata": {},
   "outputs": [
    {
     "data": {
      "text/plain": [
       "[]"
      ]
     },
     "execution_count": 127,
     "metadata": {},
     "output_type": "execute_result"
    }
   ],
   "source": [
    "l"
   ]
  },
  {
   "cell_type": "markdown",
   "id": "d16cd3c8-ae44-4351-89f9-8ed4dcb7c4b5",
   "metadata": {},
   "source": [
    "### Operations"
   ]
  },
  {
   "cell_type": "code",
   "execution_count": 128,
   "id": "9a2e67f9-cdc6-4f79-962f-038bd4bf4bf8",
   "metadata": {},
   "outputs": [],
   "source": [
    "l = [1,2,3,4,5]"
   ]
  },
  {
   "cell_type": "code",
   "execution_count": 129,
   "id": "486071e2-416c-488b-b63d-e834449a5930",
   "metadata": {},
   "outputs": [],
   "source": [
    "l1 = [6,7,8,9]"
   ]
  },
  {
   "cell_type": "code",
   "execution_count": 130,
   "id": "ec7cc52a-e33c-4f98-abcd-a62bc9739071",
   "metadata": {},
   "outputs": [
    {
     "data": {
      "text/plain": [
       "[1, 2, 3, 4, 5, 6, 7, 8, 9]"
      ]
     },
     "execution_count": 130,
     "metadata": {},
     "output_type": "execute_result"
    }
   ],
   "source": [
    "# concatenation: makes a new list\n",
    "l+l1"
   ]
  },
  {
   "cell_type": "code",
   "execution_count": 131,
   "id": "3c6b93ab-5232-48de-b98b-3a4337a79ad1",
   "metadata": {},
   "outputs": [
    {
     "data": {
      "text/plain": [
       "[1, 2, 3, 4, 5]"
      ]
     },
     "execution_count": 131,
     "metadata": {},
     "output_type": "execute_result"
    }
   ],
   "source": [
    "l"
   ]
  },
  {
   "cell_type": "code",
   "execution_count": 132,
   "id": "bf60a4c6-c423-4b26-aca7-1ec7a7cf9f77",
   "metadata": {},
   "outputs": [
    {
     "data": {
      "text/plain": [
       "[1, 2, 3, 4, 5, 1, 2, 3, 4, 5, 1, 2, 3, 4, 5]"
      ]
     },
     "execution_count": 132,
     "metadata": {},
     "output_type": "execute_result"
    }
   ],
   "source": [
    "l*3"
   ]
  },
  {
   "cell_type": "code",
   "execution_count": 133,
   "id": "ea0b1e4e-55fe-4a7a-98c1-99ef4339c999",
   "metadata": {},
   "outputs": [
    {
     "name": "stdout",
     "output_type": "stream",
     "text": [
      "1\n",
      "2\n",
      "3\n",
      "4\n",
      "5\n"
     ]
    }
   ],
   "source": [
    "for i in l:\n",
    "    print(i)"
   ]
  },
  {
   "cell_type": "code",
   "execution_count": 134,
   "id": "ca3936d9-4341-4213-9419-5f7bea67dcec",
   "metadata": {},
   "outputs": [],
   "source": [
    "lm = [1,2,3,[4,5]]"
   ]
  },
  {
   "cell_type": "code",
   "execution_count": 135,
   "id": "c552e458-4797-43c8-bb07-5be6d1fb4ab6",
   "metadata": {},
   "outputs": [
    {
     "name": "stdout",
     "output_type": "stream",
     "text": [
      "1\n",
      "2\n",
      "3\n",
      "[4, 5]\n"
     ]
    }
   ],
   "source": [
    "for i in lm:\n",
    "    print(i)"
   ]
  },
  {
   "cell_type": "code",
   "execution_count": 136,
   "id": "4af1290a-77be-4e5e-8e07-af52677bfbc7",
   "metadata": {},
   "outputs": [
    {
     "data": {
      "text/plain": [
       "False"
      ]
     },
     "execution_count": 136,
     "metadata": {},
     "output_type": "execute_result"
    }
   ],
   "source": [
    "# since 4 is not directly inside lm: False\n",
    "4 in lm"
   ]
  },
  {
   "cell_type": "code",
   "execution_count": 137,
   "id": "62590cfc-039e-4c71-af1d-84e3d5ad021a",
   "metadata": {},
   "outputs": [
    {
     "data": {
      "text/plain": [
       "True"
      ]
     },
     "execution_count": 137,
     "metadata": {},
     "output_type": "execute_result"
    }
   ],
   "source": [
    "[4,5] in lm"
   ]
  },
  {
   "cell_type": "markdown",
   "id": "8aff3a35-0a18-440d-8b2e-f699ea1e9566",
   "metadata": {},
   "source": [
    "### Functions"
   ]
  },
  {
   "cell_type": "code",
   "execution_count": 138,
   "id": "04de5756-cd3f-43f5-94fe-431f5b1ae6d6",
   "metadata": {},
   "outputs": [
    {
     "data": {
      "text/plain": [
       "[1, 2, 3, 4, 5]"
      ]
     },
     "execution_count": 138,
     "metadata": {},
     "output_type": "execute_result"
    }
   ],
   "source": [
    "l"
   ]
  },
  {
   "cell_type": "code",
   "execution_count": 139,
   "id": "0ecb07eb-2fca-41ce-b906-fd876d985d8e",
   "metadata": {},
   "outputs": [
    {
     "data": {
      "text/plain": [
       "5"
      ]
     },
     "execution_count": 139,
     "metadata": {},
     "output_type": "execute_result"
    }
   ],
   "source": [
    "len(l)"
   ]
  },
  {
   "cell_type": "code",
   "execution_count": 140,
   "id": "fdbc82c6-054e-4e28-9bc9-78ff309a371a",
   "metadata": {},
   "outputs": [
    {
     "data": {
      "text/plain": [
       "1"
      ]
     },
     "execution_count": 140,
     "metadata": {},
     "output_type": "execute_result"
    }
   ],
   "source": [
    "min(l)"
   ]
  },
  {
   "cell_type": "markdown",
   "id": "8d8f4373-b140-4151-8780-015bc2559654",
   "metadata": {},
   "source": [
    "max(l)"
   ]
  },
  {
   "cell_type": "code",
   "execution_count": 141,
   "id": "9ecdb63c-df0c-479b-a291-23c3da5a66f5",
   "metadata": {},
   "outputs": [
    {
     "data": {
      "text/plain": [
       "[1, 2, 3, 4, 5]"
      ]
     },
     "execution_count": 141,
     "metadata": {},
     "output_type": "execute_result"
    }
   ],
   "source": [
    "# Dosen't change the original list\n",
    "sorted(l)"
   ]
  },
  {
   "cell_type": "code",
   "execution_count": 142,
   "id": "d00c71c7-4c41-4369-bff4-87f0590f923f",
   "metadata": {},
   "outputs": [
    {
     "data": {
      "text/plain": [
       "[5, 4, 3, 2, 1]"
      ]
     },
     "execution_count": 142,
     "metadata": {},
     "output_type": "execute_result"
    }
   ],
   "source": [
    "sorted(l, reverse=True)"
   ]
  },
  {
   "cell_type": "code",
   "execution_count": 143,
   "id": "1ff941dd-90ed-4a0f-adea-913585bbd390",
   "metadata": {},
   "outputs": [],
   "source": [
    "# sort() : permanently changes original list\n",
    "l.sort()"
   ]
  },
  {
   "cell_type": "code",
   "execution_count": 144,
   "id": "398043ae-6f32-4d18-b45c-3aba097386de",
   "metadata": {},
   "outputs": [
    {
     "data": {
      "text/plain": [
       "[1, 2, 3, 4, 5]"
      ]
     },
     "execution_count": 144,
     "metadata": {},
     "output_type": "execute_result"
    }
   ],
   "source": [
    "l"
   ]
  },
  {
   "cell_type": "code",
   "execution_count": 145,
   "id": "752a5efd-3aab-42aa-9b78-1c0179e4c9ef",
   "metadata": {},
   "outputs": [
    {
     "data": {
      "text/plain": [
       "[5, 4, 3, 2, 1]"
      ]
     },
     "execution_count": 145,
     "metadata": {},
     "output_type": "execute_result"
    }
   ],
   "source": [
    "l.sort(reverse=True)\n",
    "l"
   ]
  },
  {
   "cell_type": "code",
   "execution_count": 146,
   "id": "635c5b0b-857b-4929-86fc-d7c3dde86852",
   "metadata": {},
   "outputs": [
    {
     "data": {
      "text/plain": [
       "[5, 4, 3, 2, 1]"
      ]
     },
     "execution_count": 146,
     "metadata": {},
     "output_type": "execute_result"
    }
   ],
   "source": [
    "l"
   ]
  },
  {
   "cell_type": "code",
   "execution_count": 147,
   "id": "40ad039d-733a-4ee4-a4a5-02dfa577e4d2",
   "metadata": {},
   "outputs": [
    {
     "data": {
      "text/plain": [
       "2"
      ]
     },
     "execution_count": 147,
     "metadata": {},
     "output_type": "execute_result"
    }
   ],
   "source": [
    "l.index(3)"
   ]
  },
  {
   "cell_type": "code",
   "execution_count": 148,
   "id": "00f2e63f-6614-4acc-9ea9-9ad9b1622281",
   "metadata": {},
   "outputs": [
    {
     "data": {
      "text/plain": [
       "'Hello How Are You'"
      ]
     },
     "execution_count": 148,
     "metadata": {},
     "output_type": "execute_result"
    }
   ],
   "source": [
    "\"hello how are you\".title()"
   ]
  },
  {
   "cell_type": "markdown",
   "id": "f725d4eb-38fb-40f2-8e6e-90c331f1ff54",
   "metadata": {},
   "source": [
    "### Write a program using list to change: \"hello how are you\", to 'Hello How Are You'"
   ]
  },
  {
   "cell_type": "code",
   "execution_count": 149,
   "id": "c90e15dd-14df-4323-8e7d-7c926361d2c7",
   "metadata": {},
   "outputs": [
    {
     "data": {
      "text/plain": [
       "'hello how are you?'"
      ]
     },
     "execution_count": 149,
     "metadata": {},
     "output_type": "execute_result"
    }
   ],
   "source": [
    "s = \"hello how are you?\"\n",
    "s"
   ]
  },
  {
   "cell_type": "code",
   "execution_count": 150,
   "id": "81f7dd03-c68d-426f-a0b3-1a6608685776",
   "metadata": {},
   "outputs": [],
   "source": [
    "l= []\n",
    "for i in s.split():\n",
    "    l.append(i.capitalize())"
   ]
  },
  {
   "cell_type": "code",
   "execution_count": 151,
   "id": "800005fa-51b7-4d97-a45e-c45a15ea930c",
   "metadata": {},
   "outputs": [
    {
     "data": {
      "text/plain": [
       "['Hello', 'How', 'Are', 'You?']"
      ]
     },
     "execution_count": 151,
     "metadata": {},
     "output_type": "execute_result"
    }
   ],
   "source": [
    "l"
   ]
  },
  {
   "cell_type": "code",
   "execution_count": 152,
   "id": "980f92d7-7269-4c51-a2fa-b98969ebe623",
   "metadata": {},
   "outputs": [
    {
     "name": "stdout",
     "output_type": "stream",
     "text": [
      "Hello How Are You?\n"
     ]
    }
   ],
   "source": [
    "print(\" \".join(l))"
   ]
  },
  {
   "cell_type": "code",
   "execution_count": 153,
   "id": "cfce6348-a384-4220-8301-45193f2cae8c",
   "metadata": {},
   "outputs": [
    {
     "name": "stdout",
     "output_type": "stream",
     "text": [
      "Hello How Are You?\n"
     ]
    }
   ],
   "source": [
    "nl= []\n",
    "for i in s.split():\n",
    "    nl.append(i.capitalize())\n",
    "print(\" \".join(nl))"
   ]
  },
  {
   "cell_type": "markdown",
   "id": "6d315d7e-74e7-4b95-a5a1-70fc5631437a",
   "metadata": {},
   "source": [
    "### Fetch words in front of @ from email ids:\n",
    "> abc@gmail.com => abc"
   ]
  },
  {
   "cell_type": "code",
   "execution_count": 154,
   "id": "0cc10d0b-e75e-42e0-b403-088620845a3f",
   "metadata": {},
   "outputs": [
    {
     "name": "stdout",
     "output_type": "stream",
     "text": [
      "Enter your email: abc@gmail.com\n"
     ]
    },
    {
     "data": {
      "text/plain": [
       "'abc'"
      ]
     },
     "execution_count": 154,
     "metadata": {},
     "output_type": "execute_result"
    }
   ],
   "source": [
    "# email = input(\"Enter your email: \")\n",
    "# email.split('@')[0]"
   ]
  },
  {
   "cell_type": "markdown",
   "id": "eef6fe03",
   "metadata": {},
   "source": [
    "### Take input a list containing duplicates and return a list after removing duplicate items"
   ]
  },
  {
   "cell_type": "code",
   "execution_count": 155,
   "id": "bd00d883-cbd4-4887-a467-119234d433fe",
   "metadata": {},
   "outputs": [],
   "source": [
    "l = [1,1,2,2,3,3,4,4,4,]"
   ]
  },
  {
   "cell_type": "code",
   "execution_count": 156,
   "id": "36d18a0b-6745-4bb5-8867-7d4444712a40",
   "metadata": {},
   "outputs": [
    {
     "name": "stdout",
     "output_type": "stream",
     "text": [
      "Enter list item without space12341\n"
     ]
    },
    {
     "data": {
      "text/plain": [
       "['1', '2', '3', '4']"
      ]
     },
     "execution_count": 156,
     "metadata": {},
     "output_type": "execute_result"
    }
   ],
   "source": [
    "# def rem_dup(l):\n",
    "#     x=[]\n",
    "#     for i in range(len(l)):\n",
    "#         if l[i] in x:\n",
    "#             continue\n",
    "#         else:\n",
    "#             x.append(l[i])\n",
    "#     return x\n",
    "\n",
    "# l = list(input(\"Enter list item without space\"))\n",
    "# rem_dup(l)"
   ]
  },
  {
   "cell_type": "markdown",
   "id": "c4905e27-0cf3-42d1-82e6-47fa4b12a66f",
   "metadata": {},
   "source": [
    "# Tuples\n",
    "> very much similar to list, with slight difference.\n",
    "\n",
    "> Tuples are ***immutable***.\n",
    "\n",
    "> i.e Tuples are ***read-only*** data type"
   ]
  },
  {
   "cell_type": "markdown",
   "id": "df4084d8-d293-42c5-ac84-45efb98820d5",
   "metadata": {},
   "source": [
    "### Create"
   ]
  },
  {
   "cell_type": "code",
   "execution_count": 157,
   "id": "7bb3c97b-652d-432c-9918-f064512e71fb",
   "metadata": {},
   "outputs": [
    {
     "data": {
      "text/plain": [
       "()"
      ]
     },
     "execution_count": 157,
     "metadata": {},
     "output_type": "execute_result"
    }
   ],
   "source": [
    "# Empty tuples\n",
    "t = ()\n",
    "t"
   ]
  },
  {
   "cell_type": "code",
   "execution_count": 158,
   "id": "72e23222-8f02-4427-9410-bab73e05ae15",
   "metadata": {},
   "outputs": [
    {
     "data": {
      "text/plain": [
       "(1, 2, 3, 4)"
      ]
     },
     "execution_count": 158,
     "metadata": {},
     "output_type": "execute_result"
    }
   ],
   "source": [
    "# Homogeneous tuples\n",
    "t1 = (1,2,3,4)\n",
    "t1"
   ]
  },
  {
   "cell_type": "code",
   "execution_count": 159,
   "id": "826d5a1e-5166-4877-be85-09aa37113081",
   "metadata": {},
   "outputs": [
    {
     "data": {
      "text/plain": [
       "('Hello', 1, 2, 5.6)"
      ]
     },
     "execution_count": 159,
     "metadata": {},
     "output_type": "execute_result"
    }
   ],
   "source": [
    "# Heterigeneous tuples\n",
    "t2 = (\"Hello\", 1,2,5.6)\n",
    "t2"
   ]
  },
  {
   "cell_type": "code",
   "execution_count": 160,
   "id": "045c81c8-85cd-44c2-a953-e18b99015bf1",
   "metadata": {},
   "outputs": [
    {
     "data": {
      "text/plain": [
       "((1, 2, 3), (4, 5, 6))"
      ]
     },
     "execution_count": 160,
     "metadata": {},
     "output_type": "execute_result"
    }
   ],
   "source": [
    "# 2D tuples\n",
    "t3 = ((1,2,3),(4,5,6))\n",
    "t3"
   ]
  },
  {
   "cell_type": "code",
   "execution_count": 162,
   "id": "4e43ecf2-4e2e-49d2-b0dc-3b8a80ae77b2",
   "metadata": {},
   "outputs": [
    {
     "data": {
      "text/plain": [
       "(1, 2, 3, (4, 5))"
      ]
     },
     "execution_count": 162,
     "metadata": {},
     "output_type": "execute_result"
    }
   ],
   "source": [
    "t4 = (1,2,3,(4,5))\n",
    "t4"
   ]
  },
  {
   "cell_type": "code",
   "execution_count": 164,
   "id": "f584ed5a-3201-494c-9261-de8890cef4f4",
   "metadata": {},
   "outputs": [
    {
     "data": {
      "text/plain": [
       "(((1, 2), (3, 4)), ((5, 6), (7, 8)))"
      ]
     },
     "execution_count": 164,
     "metadata": {},
     "output_type": "execute_result"
    }
   ],
   "source": [
    "# 3D tuples\n",
    "t5 = (((1,2),(3,4)),((5,6),(7,8)))\n",
    "t5"
   ]
  },
  {
   "cell_type": "code",
   "execution_count": 165,
   "id": "2f7d5b49-9832-4761-8636-ecdd1128b449",
   "metadata": {},
   "outputs": [
    {
     "data": {
      "text/plain": [
       "int"
      ]
     },
     "execution_count": 165,
     "metadata": {},
     "output_type": "execute_result"
    }
   ],
   "source": [
    "# single item tuple : wrong way\n",
    "t6 = (1)\n",
    "type(t6)"
   ]
  },
  {
   "cell_type": "code",
   "execution_count": 166,
   "id": "ad2e1d46-8309-4a6a-acdb-3cb34dcccbd7",
   "metadata": {},
   "outputs": [
    {
     "data": {
      "text/plain": [
       "str"
      ]
     },
     "execution_count": 166,
     "metadata": {},
     "output_type": "execute_result"
    }
   ],
   "source": [
    "# single item tuple : wrong way\n",
    "t7 = (\"hello\")\n",
    "type(t7)"
   ]
  },
  {
   "cell_type": "code",
   "execution_count": 168,
   "id": "da02653b-c055-483d-82ca-8994278ef0ad",
   "metadata": {},
   "outputs": [
    {
     "data": {
      "text/plain": [
       "tuple"
      ]
     },
     "execution_count": 168,
     "metadata": {},
     "output_type": "execute_result"
    }
   ],
   "source": [
    "# single item tuple : The right way (use , at the end)\n",
    "\n",
    "t8 = (5,)\n",
    "type(t8)"
   ]
  },
  {
   "cell_type": "code",
   "execution_count": 169,
   "id": "dcb52f3a-0f6d-435c-8f85-9fe3d88244a8",
   "metadata": {},
   "outputs": [
    {
     "data": {
      "text/plain": [
       "('G', 'o', 'a')"
      ]
     },
     "execution_count": 169,
     "metadata": {},
     "output_type": "execute_result"
    }
   ],
   "source": [
    "t9 = tuple(\"Goa\")\n",
    "t9"
   ]
  },
  {
   "cell_type": "code",
   "execution_count": 170,
   "id": "42f3cf5b-880c-4d68-b787-0c402855b0f8",
   "metadata": {},
   "outputs": [
    {
     "data": {
      "text/plain": [
       "(1, 2, 3, 4)"
      ]
     },
     "execution_count": 170,
     "metadata": {},
     "output_type": "execute_result"
    }
   ],
   "source": [
    "t10 = tuple([1,2,3,4])\n",
    "t10"
   ]
  },
  {
   "cell_type": "markdown",
   "id": "589cb336",
   "metadata": {},
   "source": [
    "### Access"
   ]
  },
  {
   "cell_type": "code",
   "execution_count": 172,
   "id": "fc3d7caf-a5f3-40da-bbff-b0e211c94260",
   "metadata": {},
   "outputs": [
    {
     "data": {
      "text/plain": [
       "(1, 2, 3, 4)"
      ]
     },
     "execution_count": 172,
     "metadata": {},
     "output_type": "execute_result"
    }
   ],
   "source": [
    "t1"
   ]
  },
  {
   "cell_type": "code",
   "execution_count": 173,
   "id": "423c8a55-8bbf-4d47-86f3-22b3e4795c36",
   "metadata": {},
   "outputs": [
    {
     "data": {
      "text/plain": [
       "1"
      ]
     },
     "execution_count": 173,
     "metadata": {},
     "output_type": "execute_result"
    }
   ],
   "source": [
    "t1[0]"
   ]
  },
  {
   "cell_type": "code",
   "execution_count": 174,
   "id": "0f3e4066-af51-414b-82ce-ef3b90c42ec9",
   "metadata": {},
   "outputs": [
    {
     "data": {
      "text/plain": [
       "4"
      ]
     },
     "execution_count": 174,
     "metadata": {},
     "output_type": "execute_result"
    }
   ],
   "source": [
    "t1[-1]"
   ]
  },
  {
   "cell_type": "code",
   "execution_count": 175,
   "id": "b9f01d21-c7b5-4f6c-87f2-4accca7ee99f",
   "metadata": {},
   "outputs": [
    {
     "data": {
      "text/plain": [
       "('Hello', 1, 2, 5.6)"
      ]
     },
     "execution_count": 175,
     "metadata": {},
     "output_type": "execute_result"
    }
   ],
   "source": [
    "t2[:4]"
   ]
  },
  {
   "cell_type": "code",
   "execution_count": 176,
   "id": "4d150cee-20aa-4a84-85a4-696938a42d02",
   "metadata": {},
   "outputs": [
    {
     "data": {
      "text/plain": [
       "((1, 2, 3), (4, 5, 6))"
      ]
     },
     "execution_count": 176,
     "metadata": {},
     "output_type": "execute_result"
    }
   ],
   "source": [
    "t3"
   ]
  },
  {
   "cell_type": "code",
   "execution_count": 177,
   "id": "06635b81-1598-4b94-b575-0601eb96b156",
   "metadata": {},
   "outputs": [
    {
     "data": {
      "text/plain": [
       "4"
      ]
     },
     "execution_count": 177,
     "metadata": {},
     "output_type": "execute_result"
    }
   ],
   "source": [
    "t3[-1][0]"
   ]
  },
  {
   "cell_type": "markdown",
   "id": "2597feb2",
   "metadata": {},
   "source": [
    "> ***Difference from list: tuple doesn't support editing***"
   ]
  },
  {
   "cell_type": "code",
   "execution_count": 178,
   "id": "f55da5d7-12ac-4e18-b49a-49b8bb7c0ee1",
   "metadata": {},
   "outputs": [
    {
     "data": {
      "text/plain": [
       "[1, 2, 3, 4]"
      ]
     },
     "execution_count": 178,
     "metadata": {},
     "output_type": "execute_result"
    }
   ],
   "source": [
    "l = [1,2,3,4]\n",
    "l"
   ]
  },
  {
   "cell_type": "code",
   "execution_count": 179,
   "id": "9921755c-21e3-420c-9666-5027c499987e",
   "metadata": {},
   "outputs": [
    {
     "data": {
      "text/plain": [
       "[1, 10, 3, 4]"
      ]
     },
     "execution_count": 179,
     "metadata": {},
     "output_type": "execute_result"
    }
   ],
   "source": [
    "l[1] = 10\n",
    "l"
   ]
  },
  {
   "cell_type": "code",
   "execution_count": 180,
   "id": "1841dc00-429a-4464-98a1-8674897ddf58",
   "metadata": {},
   "outputs": [
    {
     "data": {
      "text/plain": [
       "(1, 2, 3, 4)"
      ]
     },
     "execution_count": 180,
     "metadata": {},
     "output_type": "execute_result"
    }
   ],
   "source": [
    "# But\n",
    "t1"
   ]
  },
  {
   "cell_type": "code",
   "execution_count": 181,
   "id": "644597be-ad70-4a95-99ab-55a9fc9a9b15",
   "metadata": {},
   "outputs": [
    {
     "ename": "TypeError",
     "evalue": "'tuple' object does not support item assignment",
     "output_type": "error",
     "traceback": [
      "\u001b[1;31m---------------------------------------------------------------------------\u001b[0m",
      "\u001b[1;31mTypeError\u001b[0m                                 Traceback (most recent call last)",
      "Cell \u001b[1;32mIn[181], line 1\u001b[0m\n\u001b[1;32m----> 1\u001b[0m t1[\u001b[38;5;241m0\u001b[39m] \u001b[38;5;241m=\u001b[39m \u001b[38;5;241m100\u001b[39m\n",
      "\u001b[1;31mTypeError\u001b[0m: 'tuple' object does not support item assignment"
     ]
    }
   ],
   "source": [
    "# t1[0] = 100"
   ]
  },
  {
   "cell_type": "markdown",
   "id": "4c9d3496",
   "metadata": {},
   "source": [
    "#### ***Operations are simillar to list***\n",
    "#### ***Functions are simillar to list***"
   ]
  },
  {
   "cell_type": "markdown",
   "id": "44d98f5d",
   "metadata": {},
   "source": [
    "# Sets\n",
    "\n",
    "1. Sets do not allow duplicates\n",
    "2. Sets have no indexing/slicing\n",
    "3. Sets do not allow mutable data types\n",
    "4. Set itself is a mutable data type; i.e ***2D, 3D sets not possible***\n"
   ]
  },
  {
   "cell_type": "markdown",
   "id": "93e8f16c",
   "metadata": {},
   "source": [
    "# Dictionary\n",
    "1. {'Key':'value'} pair data type\n",
    "2. Dictionary has no indexing\n",
    "3. Dictionary are a mutable data types\n",
    "4. Keys -> immutable, Values -> they can be mutable\n",
    "4. Keys should be unique"
   ]
  },
  {
   "cell_type": "code",
   "execution_count": null,
   "id": "59a0fd1a-b760-46a4-850e-10cd4aaaf95c",
   "metadata": {},
   "outputs": [],
   "source": []
  },
  {
   "cell_type": "code",
   "execution_count": null,
   "id": "97f04640-2b1c-47e7-9fb6-cb7c38bc5141",
   "metadata": {},
   "outputs": [],
   "source": []
  }
 ],
 "metadata": {
  "kernelspec": {
   "display_name": "Python 3 (ipykernel)",
   "language": "python",
   "name": "python3"
  },
  "language_info": {
   "codemirror_mode": {
    "name": "ipython",
    "version": 3
   },
   "file_extension": ".py",
   "mimetype": "text/x-python",
   "name": "python",
   "nbconvert_exporter": "python",
   "pygments_lexer": "ipython3",
   "version": "3.11.9"
  }
 },
 "nbformat": 4,
 "nbformat_minor": 5
}
